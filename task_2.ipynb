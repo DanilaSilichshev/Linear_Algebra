{
 "cells": [
  {
   "cell_type": "markdown",
   "metadata": {},
   "source": [
    "<h1 align=\"center\">Матрицы и матричные операции</h1>"
   ]
  },
  {
   "cell_type": "code",
   "execution_count": 1,
   "metadata": {},
   "outputs": [],
   "source": [
    "import numpy as np"
   ]
  },
  {
   "cell_type": "markdown",
   "metadata": {},
   "source": [
    "### Часть 1"
   ]
  },
  {
   "cell_type": "markdown",
   "metadata": {},
   "source": [
    "1. Установите, какие произведения матриц $AB$ и $BA$ определены, и найдите размерности полученных матриц:\n",
    "\n",
    "а) $A$ — матрица $4\\times 2$, $B$ — матрица $4\\times 2$;\n",
    "    \n",
    "б) $A$ — матрица $2\\times 5$, $B$ — матрица $5\\times 3$;\n",
    "    \n",
    "в) $A$ — матрица $8\\times 3$, $B$ — матрица $3\\times 8$;\n",
    "    \n",
    "г) $A$ — квадратная матрица $4\\times 4$, $B$ — квадратная матрица $4\\times 4$."
   ]
  },
  {
   "cell_type": "markdown",
   "metadata": {},
   "source": [
    "а) Матрицы $AB$ и $BA$ не определены;\n",
    "    \n",
    "б) Матрица $AB$ с размерностью $2\\times 3$ определена, матрица $BA$ не определена;\n",
    "    \n",
    "в) Матрицы $AB$ с размерностью $8\\times 8$ и $BA$ с размерностью $3\\times 3$ определены;\n",
    "    \n",
    "г) Матрицы $AB$ и $BA$ определены с размерностью $4\\times 4$."
   ]
  },
  {
   "cell_type": "markdown",
   "metadata": {},
   "source": [
    "2. Найдите сумму и произведение матриц $A=\\begin{pmatrix}\n",
    "1 & -2\\\\ \n",
    "3 & 0\n",
    "\\end{pmatrix}$ и $B=\\begin{pmatrix}\n",
    "4 & -1\\\\ \n",
    "0 & 5\n",
    "\\end{pmatrix}.$"
   ]
  },
  {
   "cell_type": "markdown",
   "metadata": {},
   "source": [
    "$$ A+B=\\begin{pmatrix}\n",
    "1+4 & -2-1\\\\ \n",
    "3+0 & 0+5\n",
    "\\end{pmatrix}=\\begin{pmatrix}\n",
    "5 & -3\\\\ \n",
    "3 & 5\n",
    "\\end{pmatrix}$$\n",
    "\n",
    "$$ A*B=\\begin{pmatrix}\n",
    "1*4 & 1*(-1)-2*5\\\\ \n",
    "3*4 & 3*(-1)\n",
    "\\end{pmatrix}=\\begin{pmatrix}\n",
    "4 & -11\\\\ \n",
    "12 & -3\n",
    "\\end{pmatrix}$$\n",
    "\n",
    "$$ B*A=\\begin{pmatrix}\n",
    "4*1-1*3 & 4*(-2)\\\\ \n",
    "5*3 & 0\n",
    "\\end{pmatrix}=\\begin{pmatrix}\n",
    "1 & -8\\\\ \n",
    "15 & 0\n",
    "\\end{pmatrix}$$"
   ]
  },
  {
   "cell_type": "code",
   "execution_count": 2,
   "metadata": {},
   "outputs": [
    {
     "name": "stdout",
     "output_type": "stream",
     "text": [
      "[[ 1 -2]\n",
      " [ 3  0]]\n",
      "\n",
      "[[ 4 -1]\n",
      " [ 0  5]]\n"
     ]
    }
   ],
   "source": [
    "A, B = np.array([[1, -2], [3, 0]]), np.array([[4, -1], [0, 5]])\n",
    "print(A, B, sep=\"\\n\\n\")"
   ]
  },
  {
   "cell_type": "code",
   "execution_count": 3,
   "metadata": {},
   "outputs": [
    {
     "name": "stdout",
     "output_type": "stream",
     "text": [
      "Сумма матриц A и B:\n",
      "[[ 5 -3]\n",
      " [ 3  5]]\n"
     ]
    }
   ],
   "source": [
    "print(f\"Сумма матриц A и B:\\n{A+B}\")"
   ]
  },
  {
   "cell_type": "code",
   "execution_count": 4,
   "metadata": {},
   "outputs": [
    {
     "name": "stdout",
     "output_type": "stream",
     "text": [
      "Произведение матриц A*B:\n",
      "[[  4 -11]\n",
      " [ 12  -3]]\n"
     ]
    }
   ],
   "source": [
    "print(f\"Произведение матриц A*B:\\n{A.dot(B)}\")"
   ]
  },
  {
   "cell_type": "code",
   "execution_count": 5,
   "metadata": {},
   "outputs": [
    {
     "name": "stdout",
     "output_type": "stream",
     "text": [
      "Произведение матриц B*A:\n",
      "[[ 1 -8]\n",
      " [15  0]]\n"
     ]
    }
   ],
   "source": [
    "print(f\"Произведение матриц B*A:\\n{B.dot(A)}\")"
   ]
  },
  {
   "cell_type": "markdown",
   "metadata": {},
   "source": [
    "3. Из закономерностей сложения и умножения матриц на число можно сделать вывод, что матрицы одного размера образуют линейное пространство. Вычислите линейную комбинацию $3A-2B+4C$ для матриц $A=\\begin{pmatrix}\n",
    "1 & 7\\\\ \n",
    "3 & -6\n",
    "\\end{pmatrix}$, $B=\\begin{pmatrix}\n",
    "0 & 5\\\\ \n",
    "2 & -1\n",
    "\\end{pmatrix}$, $C=\\begin{pmatrix}\n",
    "2 & -4\\\\ \n",
    "1 & 1\n",
    "\\end{pmatrix}.$"
   ]
  },
  {
   "cell_type": "markdown",
   "metadata": {},
   "source": [
    "$$ 3A−2B+4C = 3*\\begin{pmatrix}\n",
    "1 & 7\\\\ \n",
    "3 & -6\n",
    "\\end{pmatrix}-2*\\begin{pmatrix}\n",
    "0 & 5\\\\ \n",
    "2 & -1\n",
    "\\end{pmatrix}+4*\\begin{pmatrix}\n",
    "2 & -4\\\\ \n",
    "1 & 1\n",
    "\\end{pmatrix} = \\begin{pmatrix}\n",
    "3 & 21\\\\ \n",
    "9 & -18\n",
    "\\end{pmatrix}+\\begin{pmatrix}\n",
    "0 & -10\\\\ \n",
    "-4 & 2\n",
    "\\end{pmatrix}+\\begin{pmatrix}\n",
    "8 & -16\\\\ \n",
    "4 & 4\n",
    "\\end{pmatrix} = \\begin{pmatrix}\n",
    "3+8 & 21-10-16\\\\ \n",
    "9-4+4 & -18+2+4\n",
    "\\end{pmatrix}=\\begin{pmatrix}\n",
    "11 & -5\\\\ \n",
    "9 & -12\n",
    "\\end{pmatrix}$$"
   ]
  },
  {
   "cell_type": "code",
   "execution_count": 6,
   "metadata": {},
   "outputs": [
    {
     "data": {
      "text/plain": [
       "array([[ 11,  -5],\n",
       "       [  9, -12]])"
      ]
     },
     "execution_count": 6,
     "metadata": {},
     "output_type": "execute_result"
    }
   ],
   "source": [
    "A = np.array([[1, 7], [3, -6]])\n",
    "B = np.array([[0, 5], [2, -1]])\n",
    "C = np.array([[2, -4], [1, 1]])\n",
    "\n",
    "3*A - 2*B + 4*C "
   ]
  },
  {
   "cell_type": "markdown",
   "metadata": {},
   "source": [
    "4. Дана матрица $A=\\begin{pmatrix}\n",
    "4 & 1\\\\ \n",
    "5 & -2\\\\ \n",
    "2 & 3\n",
    "\\end{pmatrix}$.\n",
    "Вычислите $AA^{T}$ и $A^{T}A$"
   ]
  },
  {
   "cell_type": "markdown",
   "metadata": {},
   "source": [
    "$$ A^T=\\begin{pmatrix}\n",
    "4 & 5 & 2\\\\ \n",
    "1 & -2 & 3\n",
    "\\end{pmatrix}$$"
   ]
  },
  {
   "cell_type": "code",
   "execution_count": 7,
   "metadata": {},
   "outputs": [
    {
     "data": {
      "text/plain": [
       "array([[ 4,  5,  2],\n",
       "       [ 1, -2,  3]])"
      ]
     },
     "execution_count": 7,
     "metadata": {},
     "output_type": "execute_result"
    }
   ],
   "source": [
    "matrix = np.array([[4, 1], [5, -2], [2, 3]])\n",
    "matrix.T"
   ]
  },
  {
   "cell_type": "markdown",
   "metadata": {},
   "source": [
    "$$ A*A^T=\\begin{pmatrix}\n",
    "4*4+1 & 4*5-2 & 2*4+3 \\\\ \n",
    "5*4-2 & 5*5-2*(-2) & 2*5+3*(-2) \\\\\n",
    "2*4+3 & 2*5+3*(-2) & 2*2+3*3\n",
    "\\end{pmatrix}=\\begin{pmatrix}\n",
    "17 & 18 & 11 \\\\ \n",
    "18 & 29 & 4 \\\\\n",
    "11 & 4 & 13\n",
    "\\end{pmatrix}$$"
   ]
  },
  {
   "cell_type": "code",
   "execution_count": 8,
   "metadata": {},
   "outputs": [
    {
     "data": {
      "text/plain": [
       "array([[17, 18, 11],\n",
       "       [18, 29,  4],\n",
       "       [11,  4, 13]])"
      ]
     },
     "execution_count": 8,
     "metadata": {},
     "output_type": "execute_result"
    }
   ],
   "source": [
    "np.dot(matrix, matrix.T)"
   ]
  },
  {
   "cell_type": "markdown",
   "metadata": {},
   "source": [
    "$$ A^T*A=\\begin{pmatrix}\n",
    "4*4+5*5+2*2 & 4+5*(-2)+2*3 \\\\ \n",
    "4-2*5+3*2 & 1-2*(-2)+3*3\n",
    "\\end{pmatrix}=\\begin{pmatrix}\n",
    "45 & 0 \\\\ \n",
    "0 & 14\n",
    "\\end{pmatrix}$$"
   ]
  },
  {
   "cell_type": "code",
   "execution_count": 9,
   "metadata": {
    "scrolled": false
   },
   "outputs": [
    {
     "data": {
      "text/plain": [
       "array([[45,  0],\n",
       "       [ 0, 14]])"
      ]
     },
     "execution_count": 9,
     "metadata": {},
     "output_type": "execute_result"
    }
   ],
   "source": [
    "np.dot(matrix.T, matrix)"
   ]
  },
  {
   "cell_type": "markdown",
   "metadata": {},
   "source": [
    "5*. Напишите на Python функцию для перемножения двух произвольных матриц, не используя NumPy."
   ]
  },
  {
   "cell_type": "code",
   "execution_count": 10,
   "metadata": {},
   "outputs": [],
   "source": [
    "def matrices_product(A, B, order=False):\n",
    "    '''Returns the result of multiplying matrix `A` by `B`,\n",
    "    the TRUE value of the `order` parameter changes the order of multiplication.'''\n",
    "    if order:\n",
    "        A, B = B, A\n",
    "    if len(A[0]) == len(B):\n",
    "        AB = [[0 for m in range(len(B[0]))] for n in range(len(A))]\n",
    "        B_transposed = [[B[m][n] for m in range(len(B))] for n in range(len(B[0]))]\n",
    "        for index_1, i in enumerate(A):\n",
    "            for index_2, j in enumerate(B_transposed):\n",
    "                AB[index_1][index_2] = sum([x*y for (x, y) in zip(i, j)])\n",
    "        return AB\n",
    "    else:\n",
    "        return \"Матрицы с такими размерностями нельзя перемножить!\""
   ]
  },
  {
   "cell_type": "code",
   "execution_count": 11,
   "metadata": {
    "scrolled": true
   },
   "outputs": [
    {
     "name": "stdout",
     "output_type": "stream",
     "text": [
      "[[5 2 8]\n",
      " [1 7 6]]\n",
      "\n",
      "[[15  0]\n",
      " [ 4  2]]\n"
     ]
    }
   ],
   "source": [
    "C, D = np.random.randint(10, size=(2, 3)), np.random.randint(25, size=(2, 2))\n",
    "print(C, D, sep=\"\\n\\n\")"
   ]
  },
  {
   "cell_type": "code",
   "execution_count": 12,
   "metadata": {},
   "outputs": [
    {
     "name": "stdout",
     "output_type": "stream",
     "text": [
      "Матрицы с такими размерностями нельзя перемножить!\n"
     ]
    }
   ],
   "source": [
    "print(matrices_product(C, D))"
   ]
  },
  {
   "cell_type": "code",
   "execution_count": 13,
   "metadata": {
    "scrolled": true
   },
   "outputs": [
    {
     "name": "stdout",
     "output_type": "stream",
     "text": [
      "[[75, 30, 120], [22, 22, 44]]\n"
     ]
    }
   ],
   "source": [
    "print(matrices_product(C, D, True))"
   ]
  },
  {
   "cell_type": "code",
   "execution_count": 14,
   "metadata": {},
   "outputs": [
    {
     "data": {
      "text/plain": [
       "array([[ 75,  30, 120],\n",
       "       [ 22,  22,  44]])"
      ]
     },
     "execution_count": 14,
     "metadata": {},
     "output_type": "execute_result"
    }
   ],
   "source": [
    "D.dot(C)"
   ]
  },
  {
   "cell_type": "markdown",
   "metadata": {},
   "source": [
    "### Часть 2"
   ]
  },
  {
   "cell_type": "markdown",
   "metadata": {},
   "source": [
    "1. Вычислите определитель:\n",
    "\n",
    "a)\n",
    "\n",
    "$$A=\\begin{vmatrix}\n",
    "sinx & -cosx\\\\ \n",
    "cosx & sinx\n",
    "\\end{vmatrix}$$\n",
    "\n",
    "$$ detA = sinx * sinx - (-cosx)*cosx = sin^2x+cos^2x = 1$$ "
   ]
  },
  {
   "cell_type": "markdown",
   "metadata": {},
   "source": [
    "б)\n",
    "    \n",
    "$$B=\\begin{vmatrix}\n",
    "4 & 2 & 3\\\\ \n",
    "0 & 5 & 1\\\\ \n",
    "0 & 0 & 9\n",
    "\\end{vmatrix}$$\n",
    "\n",
    "$$ detB = 9 * \\begin{vmatrix}\n",
    "4 & 2 \\\\ \n",
    "0 & 5\n",
    "\\end{vmatrix} = 9 * 4 * 5= 180$$ "
   ]
  },
  {
   "cell_type": "code",
   "execution_count": 15,
   "metadata": {},
   "outputs": [
    {
     "data": {
      "text/plain": [
       "180.0"
      ]
     },
     "execution_count": 15,
     "metadata": {},
     "output_type": "execute_result"
    }
   ],
   "source": [
    "matrix_B = np.array([[4, 2, 3], [0, 5, 1], [0, 0, 9]])\n",
    "np.linalg.det(matrix_B)"
   ]
  },
  {
   "cell_type": "markdown",
   "metadata": {},
   "source": [
    "в)\n",
    "\n",
    "$$C=\\begin{vmatrix}\n",
    "1 & 2 & 3\\\\ \n",
    "4 & 5 & 6\\\\ \n",
    "7 & 8 & 9\n",
    "\\end{vmatrix}$$\n",
    "\n",
    "$ detC = 1*\\begin{vmatrix}\n",
    "5 & 6 \\\\ \n",
    "8 & 9\n",
    "\\end{vmatrix} - 2*\\begin{vmatrix}\n",
    "4 & 6 \\\\ \n",
    "7 & 9\n",
    "\\end{vmatrix} + 3*\\begin{vmatrix}\n",
    "4 & 5 \\\\ \n",
    "7 & 8\n",
    "\\end{vmatrix} = 5*9 - 8*6-2*(4*9-7*6)+3*(4*8-7*5) = 45-48-2*(36-42)+3*(32-35)=-3+12-9 = 0$"
   ]
  },
  {
   "cell_type": "code",
   "execution_count": 16,
   "metadata": {},
   "outputs": [
    {
     "data": {
      "text/plain": [
       "0"
      ]
     },
     "execution_count": 16,
     "metadata": {},
     "output_type": "execute_result"
    }
   ],
   "source": [
    "matrix_C = np.array([[1, 2, 3], [4, 5, 6], [7, 8, 9]])\n",
    "int(np.linalg.det(matrix_C))"
   ]
  },
  {
   "cell_type": "markdown",
   "metadata": {},
   "source": [
    "2. Определитель матрицы $A$ равен $4$. Найдите:\n",
    "\n",
    "   а) $det(A^{2}) = det(AA) = detA * detA = 4*4 = 16$;\n",
    "    \n",
    "   б) $det(A^{T}) = detA = 4$;\n",
    "    \n",
    "   в) $det(2A) = 2^m *detA = 2^m * 4 = 2^{m+2},\\ где\\ m-\\ количество\\ строк/столбцов\\ в\\ матрице$"
   ]
  },
  {
   "cell_type": "markdown",
   "metadata": {},
   "source": [
    "3.  Докажите, что матрица:\n",
    "\n",
    "$$\\begin{pmatrix}\n",
    "-2 & 7 & -3\\\\ \n",
    "4 & -14 & 6\\\\ \n",
    "-3 & 7 & 13\n",
    "\\end{pmatrix}$$\n",
    "   \n",
    "вырожденная."
   ]
  },
  {
   "cell_type": "markdown",
   "metadata": {},
   "source": [
    "Согласно одному из свойств определителей, если две строки (столбца) матрицы линейно зависимы, то определитель этой матрицы равен нулю. В данном случае линейно зависимыми являются 1 и 2 строки:<br />\n",
    "$ -2*(-2\\ 7\\ -3) = (4\\ -14\\ 6)$"
   ]
  },
  {
   "cell_type": "code",
   "execution_count": 17,
   "metadata": {},
   "outputs": [
    {
     "data": {
      "text/plain": [
       "0.0"
      ]
     },
     "execution_count": 17,
     "metadata": {},
     "output_type": "execute_result"
    }
   ],
   "source": [
    "matrix = np.array([[-2, 7, -3], [4, -14, 6], [-3, 7, 13]])\n",
    "np.linalg.det(matrix)"
   ]
  },
  {
   "cell_type": "markdown",
   "metadata": {},
   "source": [
    "4. Найдите ранг матрицы:\n",
    "\n",
    "а) $\\begin{pmatrix}\n",
    "1 & 2 & 3\\\\ \n",
    "1 & 1 & 1\\\\ \n",
    "2 & 3 & 4\n",
    "\\end{pmatrix}=>\\begin{pmatrix}\n",
    "1 & 2 & 3\\\\ \n",
    "1 & 1 & 1\n",
    "\\end{pmatrix}=>\\begin{pmatrix}\n",
    "1 & 1 & 1\\\\ \n",
    "1 & 2 & 3\n",
    "\\end{pmatrix}=>\\begin{pmatrix}\n",
    "1 & 1 & 1\\\\ \n",
    "0 & 1 & 2\n",
    "\\end{pmatrix}=>Ранг\\ матрицы\\ равен\\ 2$"
   ]
  },
  {
   "cell_type": "code",
   "execution_count": 18,
   "metadata": {},
   "outputs": [
    {
     "data": {
      "text/plain": [
       "2"
      ]
     },
     "execution_count": 18,
     "metadata": {},
     "output_type": "execute_result"
    }
   ],
   "source": [
    "matrix_A = np.array([[1, 2, 3], [1, 1, 1], [2, 3, 4]])\n",
    "np.linalg.matrix_rank(matrix_A)"
   ]
  },
  {
   "cell_type": "markdown",
   "metadata": {},
   "source": [
    "б) $\\begin{pmatrix}\n",
    "0 & 0 & 2 & 1\\\\ \n",
    "0 & 0 & 2 & 2\\\\ \n",
    "0 & 0 & 4 & 3\\\\ \n",
    "2 & 3 & 5 & 6\n",
    "\\end{pmatrix}=>\\begin{pmatrix}\n",
    "2 & 3 & 5 & 6\\\\ \n",
    "0 & 0 & 2 & 2\\\\ \n",
    "0 & 0 & 4 & 3\\\\ \n",
    "0 & 0 & 2 & 1\n",
    "\\end{pmatrix}=>\\begin{pmatrix}\n",
    "1 & 1.5 & 2.5 & 3\\\\ \n",
    "0 & 0 & 2 & 2\\\\ \n",
    "0 & 0 & 4 & 3\\\\ \n",
    "0 & 0 & 2 & 1\n",
    "\\end{pmatrix}=>\\begin{pmatrix}\n",
    "1 & 1.5 & 2.5 & 3\\\\ \n",
    "0 & 0 & 1 & 1\\\\ \n",
    "0 & 0 & 4 & 3\\\\ \n",
    "0 & 0 & 2 & 1\n",
    "\\end{pmatrix}=>\\begin{pmatrix}\n",
    "1 & 1.5 & 2.5 & 3\\\\ \n",
    "0 & 0 & 1 & 1\\\\ \n",
    "0 & 0 & 0 & -1\\\\ \n",
    "0 & 0 & 0 & -1\n",
    "\\end{pmatrix}=>$\n",
    "\n",
    "$\\begin{pmatrix}\n",
    "1 & 1.5 & 2.5 & 3\\\\ \n",
    "0 & 0 & 1 & 1\\\\ \n",
    "0 & 0 & 0 & 1\\\\ \n",
    "0 & 0 & 0 & -1\n",
    "\\end{pmatrix}=>\\begin{pmatrix}\n",
    "1 & 1.5 & 2.5 & 3\\\\ \n",
    "0 & 0 & 1 & 1\\\\ \n",
    "0 & 0 & 0 & 1\\\\ \n",
    "0 & 0 & 0 & 0\n",
    "\\end{pmatrix}=>Ранг\\ матрицы\\ равен\\ 3$"
   ]
  },
  {
   "cell_type": "code",
   "execution_count": 19,
   "metadata": {},
   "outputs": [
    {
     "data": {
      "text/plain": [
       "3"
      ]
     },
     "execution_count": 19,
     "metadata": {},
     "output_type": "execute_result"
    }
   ],
   "source": [
    "matrix_B = np.array([[0, 0, 2, 1], [0, 0, 2, 2], [0, 0, 4, 3], [2, 3, 5, 6]])\n",
    "np.linalg.matrix_rank(matrix_B)"
   ]
  }
 ],
 "metadata": {
  "kernelspec": {
   "display_name": "Python 3",
   "language": "python",
   "name": "python3"
  },
  "language_info": {
   "codemirror_mode": {
    "name": "ipython",
    "version": 3
   },
   "file_extension": ".py",
   "mimetype": "text/x-python",
   "name": "python",
   "nbconvert_exporter": "python",
   "pygments_lexer": "ipython3",
   "version": "3.7.4"
  }
 },
 "nbformat": 4,
 "nbformat_minor": 2
}
