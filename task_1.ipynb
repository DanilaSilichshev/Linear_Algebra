{
 "cells": [
  {
   "cell_type": "markdown",
   "metadata": {},
   "source": [
    "<h1 align=\"center\">Линейное пространство. Основные понятия</h1>"
   ]
  },
  {
   "cell_type": "code",
   "execution_count": 1,
   "metadata": {},
   "outputs": [],
   "source": [
    "import numpy as np"
   ]
  },
  {
   "cell_type": "markdown",
   "metadata": {},
   "source": [
    "### Часть 1"
   ]
  },
  {
   "cell_type": "markdown",
   "metadata": {},
   "source": [
    "1. Исследуйте на линейную зависимость:\n",
    "\n",
    "$$f_{1}(x)=e^{x}, f_{2}(x)=1, f_{3}(x)=x+1, f_{4}(x)=x-e^{x}.$$"
   ]
  },
  {
   "cell_type": "markdown",
   "metadata": {},
   "source": [
    "$ Вектор\\ f_4(x)\\ можно\\ представить\\ как\\ линейную\\ комбинацию\\ остальных\\ векторов:$\n",
    "\n",
    "$$ f_4(x) = f_3(x) - f_2(x) - f_1(x) = x+1-1-e^x,=>\\ исходные\\ векторы\\ линейно\\ зависимы$$"
   ]
  },
  {
   "cell_type": "markdown",
   "metadata": {},
   "source": [
    "2. Исследуйте на линейную зависимость:\n",
    "$$f_{1}(x)=2, f_{2}(x)=x, f_{3}(x)=x^{2}, f_{4}(x)=(x+1)^{2}$$\n",
    "\n",
    "$$ f_4(x) = f_{3}(x) + 2*f_2(x)+0.5*f_1(x),=>\\ исходные\\ векторы\\ линейно\\ зависимы$$"
   ]
  },
  {
   "cell_type": "markdown",
   "metadata": {},
   "source": [
    "3. Найдите координаты вектора $x = (2, 3, 5)\\in \\mathbb{R}^{3}$ в базисе $b_{1}=(0, 0, 10)$, $b_{2}=(2, 0, 0)$, $b_{3}=(0, 1, 0)$."
   ]
  },
  {
   "cell_type": "markdown",
   "metadata": {},
   "source": [
    "$ x = \\xi_1b_1+\\xi_2b_2+\\xi_3b_3$\n",
    "\n",
    "$ (2,3,5) = (2\\alpha_1, 1\\alpha_2, 10\\alpha_3),=>\\alpha_1=1,  \\alpha_2=3, \\alpha_3=0.5$\n",
    "\n",
    "$ (2,3,5) = 0.5b_1+b_2+3b_3$"
   ]
  },
  {
   "cell_type": "markdown",
   "metadata": {},
   "source": [
    "4. Найдите координаты вектора $3x^{2}-2x+2\\in\\mathbb{R}^{3}[x]$:\n",
    "<ul style=\"list-style-type:none\">\n",
    "    <li>а) в базисе $1$, $x$, $x^{2}$;</li>\n",
    "    <li>б) в базисе $x^{2}$, $x-1$, $1$.</li>\n",
    "</ul>"
   ]
  },
  {
   "cell_type": "markdown",
   "metadata": {},
   "source": [
    "a) (2, -2, 3)<br />\n",
    "б) Трансформируем исходный вектор: $3x^{2}-2x+2 = 3x^{2}-2(x-1)$, отсюда (3,-2, 0)"
   ]
  },
  {
   "cell_type": "markdown",
   "metadata": {},
   "source": [
    "5. Установите, считается ли линейным подпространством:\n",
    "<ul style=\"list-style-type:none\">\n",
    "    <li>а) совокупность всех векторов трёхмерного пространства, у которых по крайней мере одна из первых двух координат равна нулю - нет</li>\n",
    "    <li>б) все векторы, считающиеся линейными комбинациями данных векторов $\\{u_{1}, u_{2} \\ldots, u_{n}\\}$ - да</li>\n",
    "</ul>    "
   ]
  },
  {
   "cell_type": "markdown",
   "metadata": {},
   "source": [
    "### Часть 2"
   ]
  },
  {
   "cell_type": "markdown",
   "metadata": {},
   "source": [
    "1. Найдите скалярное произведение векторов $x, y \\in \\mathbb{R}$:<br>\n",
    "а) $x=(0,-3, 6),~y=(-4, 7, 9);$<br>\n",
    "б) $x=(7, -4, 0, 1),~y=(-3, 1, 11, 2).$"
   ]
  },
  {
   "cell_type": "markdown",
   "metadata": {},
   "source": [
    "$a)\\ (x, y) = 0*(-4) -3*7+6*9 = 33$"
   ]
  },
  {
   "cell_type": "code",
   "execution_count": 2,
   "metadata": {},
   "outputs": [
    {
     "data": {
      "text/plain": [
       "33"
      ]
     },
     "execution_count": 2,
     "metadata": {},
     "output_type": "execute_result"
    }
   ],
   "source": [
    "np.dot([0,-3, 6], [-4, 7, 9])"
   ]
  },
  {
   "cell_type": "markdown",
   "metadata": {},
   "source": [
    "$б)\\ (x, y) = 7*(-3)-4+2 = -23$"
   ]
  },
  {
   "cell_type": "code",
   "execution_count": 3,
   "metadata": {},
   "outputs": [
    {
     "data": {
      "text/plain": [
       "-23"
      ]
     },
     "execution_count": 3,
     "metadata": {},
     "output_type": "execute_result"
    }
   ],
   "source": [
    "np.dot([7,-4,0,1], [-3,1,11,2])"
   ]
  },
  {
   "cell_type": "markdown",
   "metadata": {},
   "source": [
    "2. Найдите нормы векторов $(4, 2, 4)$ и $(12, 3, 4)$ и угол между ними."
   ]
  },
  {
   "cell_type": "markdown",
   "metadata": {},
   "source": [
    "$$ x=(4,2,4), y=(12,3,4)$$\n",
    "\n",
    "$$ (x, y) = 4*12+2*3+4*4=70$$\n",
    "\n",
    "$ Манхэттенская\\ норма: $\n",
    "\n",
    "$$ \\left\\|x\\right\\|_{1} = |4|+|2|+|4| = 10$$\n",
    "$$ \\left\\|y\\right\\|_{1} = |12|+|3|+|4| = 19$$\n",
    "\n",
    "$ Евклидова\\ норма: $\n",
    "\n",
    "$$ \\left\\|x\\right\\|_{2} = \\sqrt{4^2+2^2+4^2} = \\sqrt{36} = 6$$\n",
    "$$\\left\\|y\\right\\|_{2} = \\sqrt{12^2+3^2+4^2}| = \\sqrt{169} = 13$$\n",
    "\n",
    "$$ cos\\varphi = \\frac{(x, y)}{\\left\\|x\\right\\|_{2} * \\left\\|y\\right\\|_{2}} = \\frac{70}{6*13} \\approx 0.8974,=> \\varphi \\approx 26.18\\ градусов$$"
   ]
  },
  {
   "cell_type": "code",
   "execution_count": 4,
   "metadata": {},
   "outputs": [
    {
     "name": "stdout",
     "output_type": "stream",
     "text": [
      "Скалярное произведение векторов х и у: 70\n"
     ]
    }
   ],
   "source": [
    "x, y = np.array([4,2,4]), np.array([12,3,4])\n",
    "x_y = x.dot(y)\n",
    "print(f\"Скалярное произведение векторов х и у: {x_y}\")"
   ]
  },
  {
   "cell_type": "code",
   "execution_count": 5,
   "metadata": {},
   "outputs": [
    {
     "name": "stdout",
     "output_type": "stream",
     "text": [
      "Манхэттенская норма вектора x: 10.0, y: 19.0\n"
     ]
    }
   ],
   "source": [
    "print(f\"Манхэттенская норма вектора x: {np.linalg.norm(x, ord=1)}, y: {np.linalg.norm(y, ord=1)}\")"
   ]
  },
  {
   "cell_type": "code",
   "execution_count": 6,
   "metadata": {},
   "outputs": [
    {
     "name": "stdout",
     "output_type": "stream",
     "text": [
      "Евклидова норма вектора x: 6.0, y: 13.0\n"
     ]
    }
   ],
   "source": [
    "print(f\"Евклидова норма вектора x: {np.linalg.norm(x, ord=2)}, y: {np.linalg.norm(y, ord=2)}\")"
   ]
  },
  {
   "cell_type": "code",
   "execution_count": 7,
   "metadata": {},
   "outputs": [
    {
     "name": "stdout",
     "output_type": "stream",
     "text": [
      "Косинус угла между векторами x и y: 0.8974358974358975\n"
     ]
    }
   ],
   "source": [
    "cos_xy = x_y / (np.linalg.norm(x, ord=2) * np.linalg.norm(y, ord=2))\n",
    "print(f\"Косинус угла между векторами x и y: {cos_xy}\")"
   ]
  },
  {
   "cell_type": "code",
   "execution_count": 8,
   "metadata": {},
   "outputs": [
    {
     "name": "stdout",
     "output_type": "stream",
     "text": [
      "Угол между векторами x и y: 26.18 градусов\n"
     ]
    }
   ],
   "source": [
    "print(f\"Угол между векторами x и y: {round(np.arccos(cos_xy)*180/np.pi, 2)} градусов\")"
   ]
  },
  {
   "cell_type": "markdown",
   "metadata": {},
   "source": [
    "3. Определите, будет ли линейное пространство евклидовым, если за скалярное произведение принять:<br>\n",
    "а) произведение длин векторов - нет;<br>\n",
    "б) утроенное обычное скалярное произведение векторов - да<br>"
   ]
  },
  {
   "cell_type": "markdown",
   "metadata": {},
   "source": [
    "4. Выясните, какие из нижеперечисленных векторов образуют ортонормированный базис в линейном пространстве $\\mathbb{R}^{3}$:<br>\n",
    "а) $(1,0,0),(0,0,1);$ <br>\n",
    "б) $(1/\\sqrt{2},-1/\\sqrt{2},0),(1/\\sqrt{2},1/\\sqrt{2},0), (0,0,1);$<br>\n",
    "в) $(1/2, -1/2, 0), (0, 1/2, 1/2), (0,0,1);$<br>\n",
    "г) $(1,0,0),(0,1,0),(0,0,1)?$ "
   ]
  },
  {
   "cell_type": "markdown",
   "metadata": {},
   "source": [
    "а) Нет, так как в линейном пространстве $\\mathbb{R}^{3}$ базис должен состоять из трёх векторов."
   ]
  },
  {
   "cell_type": "markdown",
   "metadata": {},
   "source": [
    "б) Да"
   ]
  },
  {
   "cell_type": "code",
   "execution_count": 9,
   "metadata": {},
   "outputs": [],
   "source": [
    "a, b, c = [1/np.sqrt(2), -1/np.sqrt(2), 0], [1/np.sqrt(2), 1/np.sqrt(2), 0], [0, 0, 1]"
   ]
  },
  {
   "cell_type": "code",
   "execution_count": 10,
   "metadata": {},
   "outputs": [
    {
     "data": {
      "text/plain": [
       "(0.0, 0.0, 0.0)"
      ]
     },
     "execution_count": 10,
     "metadata": {},
     "output_type": "execute_result"
    }
   ],
   "source": [
    "np.dot(a, b), np.dot(a, c), np.dot(b, c)"
   ]
  },
  {
   "cell_type": "code",
   "execution_count": 11,
   "metadata": {},
   "outputs": [
    {
     "data": {
      "text/plain": [
       "(0.9999999999999998, 0.9999999999999998, 1)"
      ]
     },
     "execution_count": 11,
     "metadata": {},
     "output_type": "execute_result"
    }
   ],
   "source": [
    "np.dot(a, a), np.dot(b, b), np.dot(c, c)"
   ]
  },
  {
   "cell_type": "markdown",
   "metadata": {},
   "source": [
    "в) Нет, так как скалярное произведение векторов (0,1/2,1/2), (0,0,1) = 0.5 $\\ne$ 0."
   ]
  },
  {
   "cell_type": "markdown",
   "metadata": {},
   "source": [
    "г) Да, типичный пример прямоугольного базиса евклидова пространства $E^n$."
   ]
  }
 ],
 "metadata": {
  "kernelspec": {
   "display_name": "Python 3",
   "language": "python",
   "name": "python3"
  },
  "language_info": {
   "codemirror_mode": {
    "name": "ipython",
    "version": 3
   },
   "file_extension": ".py",
   "mimetype": "text/x-python",
   "name": "python",
   "nbconvert_exporter": "python",
   "pygments_lexer": "ipython3",
   "version": "3.7.4"
  }
 },
 "nbformat": 4,
 "nbformat_minor": 2
}
