{
 "cells": [
  {
   "cell_type": "markdown",
   "metadata": {},
   "source": [
    "<h1 align=\"center\">Системы линейных уравнений</h1>"
   ]
  },
  {
   "cell_type": "code",
   "execution_count": 1,
   "metadata": {},
   "outputs": [],
   "source": [
    "import numpy as np\n",
    "from scipy import linalg"
   ]
  },
  {
   "cell_type": "code",
   "execution_count": 2,
   "metadata": {},
   "outputs": [],
   "source": [
    "def is_matrix_degenerate(matrix):\n",
    "    return f\"{'Матрица коэффициентов невырождена' if np.linalg.det(matrix) !=0 else 'Матрица коэффициентов вырождена'}, \" \\\n",
    "            f\"так как определелитель равен {np.linalg.det(matrix)}\""
   ]
  },
  {
   "cell_type": "markdown",
   "metadata": {},
   "source": [
    "### Часть 1"
   ]
  },
  {
   "cell_type": "markdown",
   "metadata": {},
   "source": [
    "1. Решите систему уравнений методом Гаусса:\n",
    "\n",
    "$$\\begin{cases}\n",
    "x_{1}+x_{2}-x_{3}-2x_{4}=0, \\\\\n",
    "2x_{1}+x_{2}-x_{3}+x_{4}=-2, \\\\\n",
    "x_{1}+x_{2}-3x_{3}+x_{4}=4.\n",
    "\\end{cases}$$\n",
    "Представим СЛАУ в матричной форме:\n",
    "$$ \n",
    "\\begin{pmatrix}\n",
    "\\left.\\begin{matrix}\n",
    "1 & 1 & -1 & -2\\\\ \n",
    "2 & 1 & -1 & 1\\\\ \n",
    "1 & 1 & -3 & 1\n",
    "\\end{matrix}\\right|\n",
    "\\begin{matrix}\n",
    "0\\\\ \n",
    "-2\\\\\n",
    "4\n",
    "\\end{matrix}\n",
    "\\end{pmatrix}\n",
    "$$\n",
    "Применим преобразования:\n",
    "$$\n",
    "\\begin{pmatrix}\n",
    "\\left.\\begin{matrix}\n",
    "1 & 1 & -1 & -2\\\\ \n",
    "0 & -1 & 1 & 5\\\\ \n",
    "0 & 0 & -2 & 3\n",
    "\\end{matrix}\\right|\n",
    "\\begin{matrix}\n",
    "0\\\\ \n",
    "-2\\\\\n",
    "4\n",
    "\\end{matrix}\n",
    "\\end{pmatrix}\n",
    "$$\n",
    "Полученная матрица соответствует системе:\n",
    "$$\n",
    "\\begin{cases}\n",
    "x_1+x_2-x_3-2x_4=0, \\\\\n",
    "~~~-x_2+x_3+5x_4=-2, \\\\\n",
    "~~~~~~~-2x_3+3x_4=4\n",
    "\\end{cases}=>\n",
    "\\begin{cases}\n",
    "x_1=2x_4+x_3-x_2, \\\\\n",
    "x_2=2+x_3+5x_4, \\\\\n",
    "x_3=1.5x_4-2\n",
    "\\end{cases}\n",
    "$$\n",
    "У исходной СЛАУ есть общее решение при $x_4=const$:\n",
    "\\begin{cases}\n",
    "x_4 = k, \\\\\n",
    "x_3=1.5k-2, \\\\\n",
    "x_2=6.5k, \\\\\n",
    "x_1=-3k-2\n",
    "\\end{cases}"
   ]
  },
  {
   "cell_type": "markdown",
   "metadata": {},
   "source": [
    "2. Проверьте на совместность и выясните, сколько решений будет иметь система линейных уравнений:\n",
    "\n",
    "а) $\\begin{cases}\n",
    "3x_{1}-x_{2}+x_{3}=4, \\\\\n",
    "2x_{1}-5x_{2}-3x_{3}=-17, \\\\\n",
    "x_{1}+x_{2}-x_{3}=0;\n",
    "\\end{cases}$<br/>\n",
    "\n",
    "Число уравнений равно числу неизвестных."
   ]
  },
  {
   "cell_type": "code",
   "execution_count": 3,
   "metadata": {},
   "outputs": [
    {
     "name": "stdout",
     "output_type": "stream",
     "text": [
      "Матрица коэффициентов невырождена, так как определелитель равен 32.0\n"
     ]
    }
   ],
   "source": [
    "A = np.array([[3, -1, 1], [2, -5, -3], [1, 1, -1]])\n",
    "print(is_matrix_degenerate(A))"
   ]
  },
  {
   "cell_type": "markdown",
   "metadata": {},
   "source": [
    "Перепишем эту систему в векторном виде:\n",
    "\n",
    "$ \n",
    "x_{1}\\begin{pmatrix}\n",
    "3\\\\2\\\\1\n",
    "\\end{pmatrix}+\n",
    "x_{2}\\begin{pmatrix}\n",
    "-1\\\\-5\\\\1\n",
    "\\end{pmatrix}+\n",
    "x_{3}\\begin{pmatrix}\n",
    "1\\\\-3\\\\-1\n",
    "\\end{pmatrix}=\n",
    "\\begin{pmatrix}\n",
    "4\\\\-17\\\\0\n",
    "\\end{pmatrix}\n",
    "$\n",
    "\n",
    "Векторы столбцов коэффициентов $𝑎_1,𝑎_2,𝑎_3$  линейно независимы, => такая система совместна, и её решение единственно."
   ]
  },
  {
   "cell_type": "markdown",
   "metadata": {},
   "source": [
    "б) $\\begin{cases}\n",
    "2x_{1}-4x_{2}+6x_{3}=1, \\\\\n",
    "x_{1}-2x_{2}+3x_{3}=-2, \\\\\n",
    "3x_{1}-6x_{2}+9x_{3}=5;\n",
    "\\end{cases}$<br/>\n",
    "\n",
    "Число уравнений равно числу неизвестных."
   ]
  },
  {
   "cell_type": "code",
   "execution_count": 4,
   "metadata": {},
   "outputs": [
    {
     "name": "stdout",
     "output_type": "stream",
     "text": [
      "Матрица коэффициентов вырождена, так как определелитель равен 0.0\n"
     ]
    }
   ],
   "source": [
    "B = np.array([[2, -4, 6], [1, -2, 3], [3, -6, 9]])\n",
    "print(is_matrix_degenerate(B))"
   ]
  },
  {
   "cell_type": "markdown",
   "metadata": {},
   "source": [
    "СЛАУ является несовместной."
   ]
  },
  {
   "cell_type": "markdown",
   "metadata": {},
   "source": [
    "в) $\\begin{cases}\n",
    "x_{1}+2x_{2}+5x_{3}=4, \\\\\n",
    "3x_{1}+x_{2}-8x_{3}=-2. \n",
    "\\end{cases}$<br/>\n",
    "\n",
    "Число уравнений меньше числа неизвестных.<br/>\n",
    "Перепишем эту систему в векторном виде:\n",
    "\n",
    "$ \n",
    "x_{1}\\begin{pmatrix}\n",
    "1\\\\3\n",
    "\\end{pmatrix}+\n",
    "x_{2}\\begin{pmatrix}\n",
    "2\\\\1\n",
    "\\end{pmatrix}+\n",
    "x_{3}\\begin{pmatrix}\n",
    "5\\\\-8\n",
    "\\end{pmatrix}=\n",
    "\\begin{pmatrix}\n",
    "4\\\\-2\n",
    "\\end{pmatrix}\n",
    "$\n",
    "\n",
    "Данная СЛАУ совместная и неопределенная."
   ]
  },
  {
   "cell_type": "markdown",
   "metadata": {},
   "source": [
    "3. Проверьте на совместность и выясните, сколько решений будет иметь система линейных уравнений, заданная расширенной матрицей:\n",
    "\n",
    "$$\\tilde{A}=\\begin{pmatrix}\n",
    "\\left.\\begin{matrix}\n",
    "1 & 3 & -2 & 4\\\\ \n",
    "0 & 5 & 0 & 1\\\\ \n",
    "0 & 0 & 3 & 0\\\\ \n",
    "0 & 0 & 0 & 2\n",
    "\\end{matrix}\\right|\n",
    "\\begin{matrix}\n",
    "3\\\\ \n",
    "2\\\\\n",
    "4\\\\\n",
    "1\n",
    "\\end{matrix}\n",
    "\\end{pmatrix}$$"
   ]
  },
  {
   "cell_type": "code",
   "execution_count": 5,
   "metadata": {},
   "outputs": [
    {
     "name": "stdout",
     "output_type": "stream",
     "text": [
      "[[ 1  3 -2  4]\n",
      " [ 0  5  0  1]\n",
      " [ 0  0  3  0]\n",
      " [ 0  0  0  2]]\n",
      "\n",
      "[[3]\n",
      " [2]\n",
      " [4]\n",
      " [1]]\n"
     ]
    }
   ],
   "source": [
    "A = np.array([[1, 3, -2, 4], [0, 5, 0, 1], [0, 0, 3, 0], [0, 0, 0, 2]])\n",
    "b = np.array([[3, 2, 4, 1]])\n",
    "print(A, b.transpose(), sep=\"\\n\\n\")"
   ]
  },
  {
   "cell_type": "code",
   "execution_count": 6,
   "metadata": {},
   "outputs": [
    {
     "name": "stdout",
     "output_type": "stream",
     "text": [
      "[[ 1  3 -2  4  3]\n",
      " [ 0  5  0  1  2]\n",
      " [ 0  0  3  0  4]\n",
      " [ 0  0  0  2  1]]\n"
     ]
    }
   ],
   "source": [
    "A_expanded = np.append(A, b.T, axis=1)\n",
    "print(A_expanded)"
   ]
  },
  {
   "cell_type": "code",
   "execution_count": 7,
   "metadata": {},
   "outputs": [
    {
     "data": {
      "text/plain": [
       "True"
      ]
     },
     "execution_count": 7,
     "metadata": {},
     "output_type": "execute_result"
    }
   ],
   "source": [
    "np.linalg.matrix_rank(A) == np.linalg.matrix_rank(A_expanded) == 4"
   ]
  },
  {
   "cell_type": "code",
   "execution_count": 8,
   "metadata": {},
   "outputs": [
    {
     "name": "stdout",
     "output_type": "stream",
     "text": [
      "Система линейных уравнений имеет единственное решение: x_1 = 2.7666666666666666, x_2 = 0.3, x_3 = 1.3333333333333333, x_4 = 0.5\n"
     ]
    }
   ],
   "source": [
    "print(f\"Система линейных уравнений имеет единственное решение:\",  \n",
    "      f\"{', '.join([f'x_{index+1} = {x}' for index, x in enumerate(np.linalg.solve(A, b[0]))])}\")"
   ]
  },
  {
   "cell_type": "markdown",
   "metadata": {},
   "source": [
    "4. Дана система линейных уравнений, заданная расширенной матрицей:\n",
    "\n",
    "$$\\tilde{A}=\\begin{pmatrix}\n",
    "\\left.\\begin{matrix}\n",
    "1 & 2 & 3\\\\ \n",
    "4 & 5 & 6\\\\ \n",
    "7 & 8 & 9\n",
    "\\end{matrix}\\right|\n",
    "\\begin{matrix}\n",
    "a\\\\ \n",
    "b\\\\\n",
    "c\n",
    "\\end{matrix}\n",
    "\\end{pmatrix}.$$\n",
    "\n",
    "Найдите соотношение между параметрами $a$, $b$ и $c$, при которых система считается несовместной.<br/>\n",
    "\n",
    "Преобразуем исходную матрицу к ступенчатой форме:\n",
    "\n",
    "$$\n",
    "\\begin{pmatrix}\n",
    "\\left.\\begin{matrix}\n",
    "1 & 2 & 3\\\\ \n",
    "4 & 5 & 6\\\\ \n",
    "7 & 8 & 9\n",
    "\\end{matrix}\\right|\n",
    "\\begin{matrix}\n",
    "a\\\\ \n",
    "b\\\\\n",
    "c\n",
    "\\end{matrix}\n",
    "\\end{pmatrix}=>\n",
    "\\begin{pmatrix}\n",
    "\\left.\\begin{matrix}\n",
    "1 & 2 & 3\\\\ \n",
    "4-2*1 & 5-2*2 & 6-2*3\\\\ \n",
    "7-3*1 & 8-3*2 & 9-3*3\n",
    "\\end{matrix}\\right|\n",
    "\\begin{matrix}\n",
    "a\\\\ \n",
    "b-2a\\\\\n",
    "c-3a\n",
    "\\end{matrix}\n",
    "\\end{pmatrix}=>\n",
    "\\begin{pmatrix}\n",
    "\\left.\\begin{matrix}\n",
    "1 & 2 & 3\\\\ \n",
    "2 & 1 & 0\\\\ \n",
    "4 & 2 & 0\n",
    "\\end{matrix}\\right|\n",
    "\\begin{matrix}\n",
    "a\\\\ \n",
    "b-2a\\\\\n",
    "c-3a\n",
    "\\end{matrix}\n",
    "\\end{pmatrix}=>\n",
    "\\begin{pmatrix}\n",
    "\\left.\\begin{matrix}\n",
    "1 & 2 & 3\\\\ \n",
    "2 & 1 & 0\\\\ \n",
    "0 & 0 & 0\n",
    "\\end{matrix}\\right|\n",
    "\\begin{matrix}\n",
    "a\\\\ \n",
    "b-2a\\\\\n",
    "c-3a-2b\n",
    "\\end{matrix}\n",
    "\\end{pmatrix}\n",
    "$$\n",
    "\n",
    "Получаем, что при таких $a, c, b$, что $c-3a-2b \\ne 0$ СЛАУ является несовместной."
   ]
  },
  {
   "cell_type": "markdown",
   "metadata": {},
   "source": [
    "### Часть 2"
   ]
  },
  {
   "cell_type": "markdown",
   "metadata": {},
   "source": [
    "1. Решите систему уравнений методом Крамера:\n",
    "\n",
    "а) $\\begin{cases}\n",
    "x_{1}-2x_{2}=1 \\\\\n",
    "3x_{1}-4x_{2}=7\n",
    "\\end{cases}$<br/>\n",
    "\n",
    "СЛАУ в матричной форме примет вид:\n",
    "$$\n",
    "\\begin{pmatrix}\n",
    "\\left.\\begin{matrix}\n",
    "1 & -2 \\\\ \n",
    "3 & -4 \n",
    "\\end{matrix}\\right|\n",
    "\\begin{matrix}\n",
    "1\\\\ \n",
    "7\n",
    "\\end{matrix}\n",
    "\\end{pmatrix}\n",
    "$$\n",
    "\n",
    "$$detA=\\begin{vmatrix}\n",
    "1 & -2 \\\\ \n",
    "3 & -4\n",
    "\\end{vmatrix} =1*(-4)-3*(-2)=2 \\ne 0\n",
    "$$\n",
    "\n",
    "$$detA_1=\\begin{vmatrix}\n",
    "1 & -2 \\\\ \n",
    "7 & -4\n",
    "\\end{vmatrix} =1*(-4)-7*(-2)=10\n",
    "$$\n",
    "\n",
    "$$detA_2=\\begin{vmatrix}\n",
    "1 & 1 \\\\ \n",
    "3 & 7\n",
    "\\end{vmatrix} =1*7-3*1=4\n",
    "$$\n",
    "Тогда\n",
    "$$\n",
    "\\begin{cases}\n",
    "x_1 = \\frac{detA_1}{detA} \\\\\n",
    "x_2 = \\frac{detA_2}{detA}\n",
    "\\end{cases}=>\n",
    "\\begin{cases}\n",
    "x_1 = 5 \\\\\n",
    "x_2 = 2\n",
    "\\end{cases}\n",
    "$$"
   ]
  },
  {
   "cell_type": "code",
   "execution_count": 9,
   "metadata": {},
   "outputs": [
    {
     "name": "stdout",
     "output_type": "stream",
     "text": [
      "Корни СЛАУ: [5. 2.]\n"
     ]
    }
   ],
   "source": [
    "A = np.array([[1, -2], [3, -4]])\n",
    "b = np.array([[1, 7]])\n",
    "print(\"Корни СЛАУ:\", np.linalg.solve(A, b[0]))"
   ]
  },
  {
   "cell_type": "markdown",
   "metadata": {},
   "source": [
    "б) $\\begin{cases}\n",
    "2x_{1}-x_{2}+5x_{3}=10 \\\\\n",
    "x_{1}+x_{2}-3x_{3}=-2 \\\\\n",
    "2x_{1}+4x_{2}+x_{3}=1\n",
    "\\end{cases}$<br/>\n",
    "\n",
    "Представим СЛАУ в матричной форме:\n",
    "$$\n",
    "\\begin{pmatrix}\n",
    "\\left.\\begin{matrix}\n",
    "2 & -1 & 5 \\\\ \n",
    "1 & 1 & -3 \\\\ \n",
    "2 & 4 & 1\n",
    "\\end{matrix}\\right|\n",
    "\\begin{matrix}\n",
    "10 \\\\ \n",
    "-2 \\\\\n",
    "1\n",
    "\\end{matrix}\n",
    "\\end{pmatrix}\n",
    "$$\n",
    "\n",
    "$$detB=\\begin{vmatrix}\n",
    "2 & -1 & 5 \\\\ \n",
    "1 & 1 & -3 \\\\ \n",
    "2 & 4 & 1\n",
    "\\end{vmatrix} = 2* \\begin{vmatrix}\n",
    "1 & -3 \\\\\n",
    "4 & 1\n",
    "\\end{vmatrix} + \\begin{vmatrix}\n",
    "1 & -3 \\\\ \n",
    "2 & 1\n",
    "\\end{vmatrix} + 5*\\begin{vmatrix}\n",
    "1 & 1 \\\\ \n",
    "2 & 4\n",
    "\\end{vmatrix} = 2*(1-4*(-3))+1-2*(-3)+5*(1*4-2*1)=26+7+10=43\n",
    "$$\n",
    "\n",
    "$$detB_1=\\begin{vmatrix}\n",
    "10 & -1 & 5 \\\\ \n",
    "-2 & 1 & -3 \\\\ \n",
    "1 & 4 & 1\n",
    "\\end{vmatrix} = 10* \\begin{vmatrix}\n",
    "1 & -3 \\\\\n",
    "4 & 1\n",
    "\\end{vmatrix} + \\begin{vmatrix}\n",
    "-2 & -3 \\\\ \n",
    "1 & 1\n",
    "\\end{vmatrix} + 5*\\begin{vmatrix}\n",
    "-2 & 1 \\\\ \n",
    "1 & 4\n",
    "\\end{vmatrix} = 10*(1+12)-2-(-3)+5*((-2)*4-1)=130+1-45=86\n",
    "$$\n",
    "\n",
    "$$detB_2=\\begin{vmatrix}\n",
    "2 & 10 & 5 \\\\ \n",
    "1 & -2 & -3 \\\\ \n",
    "2 & 1 & 1\n",
    "\\end{vmatrix} = 2* \\begin{vmatrix}\n",
    "-2 & -3 \\\\\n",
    "1 & 1\n",
    "\\end{vmatrix} -10* \\begin{vmatrix}\n",
    "1 & -3 \\\\ \n",
    "2 & 1\n",
    "\\end{vmatrix} + 5*\\begin{vmatrix}\n",
    "1 & -2 \\\\ \n",
    "2 & 1\n",
    "\\end{vmatrix} = 2-10*(1-2*(-3))+5*(1-2*(-2))=2-70+25=-43\n",
    "$$\n",
    "\n",
    "$$detB_3=\\begin{vmatrix}\n",
    "2 & -1 & 10 \\\\ \n",
    "1 & 1 & -2 \\\\ \n",
    "2 & 4 & 1\n",
    "\\end{vmatrix} = 2* \\begin{vmatrix}\n",
    "1 & -2 \\\\\n",
    "4 & 1\n",
    "\\end{vmatrix} + \\begin{vmatrix}\n",
    "1 & -2 \\\\ \n",
    "2 & 1\n",
    "\\end{vmatrix} + 10*\\begin{vmatrix}\n",
    "1 & 1 \\\\ \n",
    "2 & 4\n",
    "\\end{vmatrix} = 2*(1-4*(-2))+(1*1-2*(-2))+10*(4-2)=18+5+20=43\n",
    "$$\n",
    "\n",
    "Следовательно\n",
    "$$\n",
    "\\begin{cases}\n",
    "x_1 = \\frac{detB_1}{detB} \\\\\n",
    "x_2 = \\frac{detB_2}{detB} \\\\\n",
    "x_3 = \\frac{detB_3}{detB}\n",
    "\\end{cases}=>\n",
    "\\begin{cases}\n",
    "x_1 = 2 \\\\\n",
    "x_2 = -1 \\\\\n",
    "x_3 = 1\n",
    "\\end{cases}\n",
    "$$"
   ]
  },
  {
   "cell_type": "code",
   "execution_count": 10,
   "metadata": {},
   "outputs": [
    {
     "name": "stdout",
     "output_type": "stream",
     "text": [
      "Корни СЛАУ: [ 2. -1.  1.]\n"
     ]
    }
   ],
   "source": [
    "B = np.array([[2, -1, 5], [1, 1, -3], [2, 4, 1]])\n",
    "b = np.array([[10, -2, 1]])\n",
    "print(\"Корни СЛАУ:\", np.linalg.solve(B, b[0]))"
   ]
  },
  {
   "cell_type": "markdown",
   "metadata": {},
   "source": [
    "2*. Найдите $L$-матрицу $LU$-разложения для матрицы коэффициентов:\n",
    "\n",
    "а) $\\begin{pmatrix}\n",
    "1 & 2 & 4 \\\\ \n",
    "2 & 9 & 12 \\\\ \n",
    "3 & 26 & 30\n",
    "\\end{pmatrix}$<br/>\n",
    "\n",
    "Общий вид L-матрицы в данном случае:\n",
    "$$ \n",
    "L=\\begin{pmatrix}\n",
    "1 & 0 & 0 \\\\ \n",
    "l_{21} & 1 & 0 \\\\ \n",
    "l_{31} & l_{32} & 1\n",
    "\\end{pmatrix}\n",
    "$$\n",
    "\n",
    "$$l_{21} = \\frac{a_{21}}{a_{11}} = 2,\\ l_{31} = \\frac{a_{31}}{a_{11}} = 3 $$\n",
    "$$ l_{32} = \\frac{a_{32}-l_{31}*a_{12}}{a_{22}-l_{21}*a_{12}} = \\frac{26-3*2}{9-2*2} = 4 $$\n",
    "\n",
    "L-матрица в итоге примет следующий вид:\n",
    "$$\n",
    "L=\\begin{pmatrix}\n",
    "1 & 0 & 0 \\\\ \n",
    "2 & 1 & 0 \\\\ \n",
    "3 & 4 & 1\n",
    "\\end{pmatrix}\n",
    "$$"
   ]
  },
  {
   "cell_type": "markdown",
   "metadata": {},
   "source": [
    "б) $\\begin{pmatrix}\n",
    "1 & 1 & 2 & 4\\\\ \n",
    "2 & 5 & 8 & 9\\\\ \n",
    "3 & 18 & 29 & 18\\\\\n",
    "4 & 22 & 53 & 33\n",
    "\\end{pmatrix}$\n",
    "\n",
    "Общий вид L-матрицы в данном случае:\n",
    "$$ \n",
    "L=\\begin{pmatrix}\n",
    "1 & 0 & 0 & 0\\\\ \n",
    "l_{21} & 1 & 0 & 0\\\\ \n",
    "l_{31} & l_{32} & 1 & 0\\\\\n",
    "l_{41} & l_{42} & l_{43} & 1\n",
    "\\end{pmatrix}\n",
    "$$\n",
    "\n",
    "$$l_{21} = \\frac{a_{21}}{a_{11}} = 2,\\ l_{31} = \\frac{a_{31}}{a_{11}} = 3,\\ l_{41} = \\frac{a_{41}}{a_{11}} = 4 $$\n",
    "$$l_{32} = \\frac{a_{32}-l_{31}*a_{12}}{a_{22}-l_{21}*a_{12}} = \\frac{18-3*1}{5-2*1} = 5 $$\n",
    "$$l_{42} = \\frac{a_{42}-l_{41}*a_{12}}{a_{22}-l_{21}*a_{12}} = \\frac{22-4*1}{5-2*1} = 6 $$\n",
    "$$l_{43} = \\frac{a_{43}-l_{41}*a_{13}-l_{42}*(a_{23}-l_{21}*a_{13})}{a_{33}-l_{31}*a_{13}-l_{32}*(a_{23}-l_{21}*a_{13})} = \\frac{53-4*2-6*(8-2*2)}{29-3*2-5*(8-2*2)} = 7 $$\n",
    "\n",
    "L-матрица в итоге примет следующий вид:\n",
    "$$ \n",
    "L=\\begin{pmatrix}\n",
    "1 & 0 & 0 & 0\\\\ \n",
    "2 & 1 & 0 & 0\\\\ \n",
    "3 & 5 & 1 & 0\\\\\n",
    "4 & 6 & 7 & 1\n",
    "\\end{pmatrix}\n",
    "$$"
   ]
  },
  {
   "cell_type": "markdown",
   "metadata": {},
   "source": [
    "3*. Решите систему линейных уравнений методом $LU$-разложения:\n",
    "\n",
    "$$\\begin{cases}\n",
    "2x_1+x_2+3x_3=1 \\\\\n",
    "11x_1+7x_2+5x_3=-6 \\\\\n",
    "9x_1+8x_2+4x_3=-5\n",
    "\\end{cases}$$\n",
    "\n",
    "$$\\begin{cases}\n",
    "2x_1+x_2+3x_3=1 \\\\\n",
    "11x_1+7x_2+5x_3=-6 \\\\\n",
    "9x_1+8x_2+4x_3=-5\n",
    "\\end{cases}<=>Ax=b<=>\\begin{pmatrix}\n",
    "\\left.\\begin{matrix}\n",
    "2 & 1 & 3\\\\ \n",
    "11 & 7 & 5\\\\ \n",
    "9 & 8 & 4\n",
    "\\end{matrix}\\right|\n",
    "\\begin{matrix}\n",
    "1\\\\ \n",
    "-6\\\\\n",
    "-5\n",
    "\\end{matrix}\n",
    "\\end{pmatrix}\n",
    "$$\n",
    "\n",
    "Представим матрицу коэффициентов $A$ в виде матричного произведения $LU$:\n",
    "\n",
    "$$\n",
    "U=\\begin{pmatrix}\n",
    "2 & 1 & 3\\\\ \n",
    "11-5.5*2 & 7-5.5*1 & 5-5.5*3\\\\ \n",
    "9-4.5*2 & 8-4.5*1 & 4-4.5*3\n",
    "\\end{pmatrix}=>\\begin{pmatrix}\n",
    "2 & 1 & 3\\\\ \n",
    "0 & 1.5 & -11.5\\\\ \n",
    "0 & 3.5-2.33*1.5 & -9.5-2.33*(-11.5)\n",
    "\\end{pmatrix}=>\\begin{pmatrix}\n",
    "2 & 1 & 3\\\\ \n",
    "0 & 1.5 & -11.5\\\\ \n",
    "0 & 0 & 17.33\n",
    "\\end{pmatrix}\n",
    "$$\n",
    "\n",
    "$$\n",
    "L=\\begin{pmatrix}\n",
    "1 & 0 & 0 \\\\ \n",
    "5.5 & 1 & 0 \\\\ \n",
    "4.5 & 2.33 & 1\n",
    "\\end{pmatrix}\n",
    "$$\n",
    "\n",
    "Произведём замену выражения $LUx=b$ на $Ly=b$ и решим полученную систему:\n",
    "\n",
    "$$\n",
    "\\begin{cases}\n",
    "y_1=1 \\\\\n",
    "5.5y_1+y_2=-6 \\\\\n",
    "4.5y_1+2.33y_2+y_3=-5\n",
    "\\end{cases}=>\\begin{cases}\n",
    "y_1=1 \\\\\n",
    "y_2=-11.5 \\\\\n",
    "2.33y_2+y_3=-9.5\n",
    "\\end{cases}=>\\begin{cases}\n",
    "y_1=1 \\\\\n",
    "y_2=-11.5 \\\\\n",
    "y_3=-9.5-2.33*(-11.5)\n",
    "\\end{cases}=>\\begin{cases}\n",
    "y_1=1 \\\\\n",
    "y_2=-11.5 \\\\\n",
    "y_3=17.295\n",
    "\\end{cases}\n",
    "$$\n",
    "\n",
    "Выполним обратную подстановку $Ux=y$:\n",
    "\n",
    "$$\n",
    "\\begin{cases}\n",
    "2x_1 + x_2 + 3x_3 = 1 \\\\\n",
    "1.5x_2 - 11.5x_3 = -11.5 \\\\\n",
    "17.33x_3 = 17.295\n",
    "\\end{cases}=>\\begin{cases}\n",
    "2x_1 + x_2 + 3x_3 = 1 \\\\\n",
    "1.5x_2 - 11.5x_3 = -11.5 \\\\\n",
    "x_3 \\approx 1\n",
    "\\end{cases}=>\\begin{cases}\n",
    "2x_1 + x_2 \\approx -2 \\\\\n",
    "1.5x_2 \\approx 0 \\\\\n",
    "x_3 \\approx 1\n",
    "\\end{cases}=>\\begin{cases}\n",
    "x_1 \\approx -1 \\\\\n",
    "x_2 \\approx 0 \\\\\n",
    "x_3 \\approx 1\n",
    "\\end{cases}\n",
    "$$"
   ]
  },
  {
   "cell_type": "code",
   "execution_count": 11,
   "metadata": {},
   "outputs": [
    {
     "name": "stdout",
     "output_type": "stream",
     "text": [
      "Корни СЛАУ: [-1.0, 0.0, 1.0]\n"
     ]
    }
   ],
   "source": [
    "A = np.array([[2, 1, 3], [11, 7, 5], [9, 8, 4]])\n",
    "b = np.array([[1, -6, -5]])\n",
    "print(\"Корни СЛАУ:\", [round(x, 3) for x in np.linalg.solve(A, b[0])])"
   ]
  },
  {
   "cell_type": "code",
   "execution_count": 12,
   "metadata": {},
   "outputs": [
    {
     "name": "stdout",
     "output_type": "stream",
     "text": [
      "x_1 = -1.0\n",
      "x_2 = 0.0\n",
      "x_3 = 1.0\n"
     ]
    }
   ],
   "source": [
    "lu, piv = linalg.lu_factor(A)\n",
    "x_list = linalg.lu_solve((lu, piv), b.T)\n",
    "for ind, x in enumerate([round(x[0], 3) for x in x_list]):\n",
    "    print(f\"x_{ind+1} = {x}\")"
   ]
  },
  {
   "cell_type": "markdown",
   "metadata": {},
   "source": [
    "4*. Решите систему линейных уравнений методом Холецкого:\n",
    "\n",
    "$$\\begin{cases}\n",
    "81x_{1}-45x_{2}+45x_{3}=531 \\\\\n",
    "-45x_{1}+50x_{2}-15x_{3}=-460 \\\\\n",
    "45x_{1}-15x_{2}+38x_{3}=193\n",
    "\\end{cases}$$"
   ]
  },
  {
   "cell_type": "code",
   "execution_count": 13,
   "metadata": {},
   "outputs": [
    {
     "name": "stdout",
     "output_type": "stream",
     "text": [
      "[[ 81 -45  45]\n",
      " [-45  50 -15]\n",
      " [ 45 -15  38]]\n",
      "\n",
      "[[ 531]\n",
      " [-460]\n",
      " [ 193]]\n"
     ]
    }
   ],
   "source": [
    "A = np.array([[81, -45, 45], [-45, 50, -15], [45, -15, 38]])\n",
    "b = np.array([[531, -460, 193]])\n",
    "print(A, b.T, sep=\"\\n\\n\")"
   ]
  },
  {
   "cell_type": "markdown",
   "metadata": {},
   "source": [
    "$$l_{11} =\\sqrt{a_{11}} = \\sqrt{81} = 9$$\n",
    "$$l_{21} =\\frac{a_{21}}{l_{11}} = \\frac{-45}{9} = -5$$\n",
    "$$l_{31} =\\frac{a_{31}}{l_{11}} = \\frac{45}{9} = 5$$\n",
    "$$l_{11} =\\sqrt{a_{11}} = \\sqrt{81} = 9$$\n",
    "$$l_{21} =\\frac{a_{21}}{l_{11}} = \\frac{-45}{9} = -5$$ \n",
    "$$l_{31} =\\frac{a_{31}}{l_{11}} = \\frac{45}{9} = 5$$\n",
    "$$l_{22} = \\sqrt{a_{22}-l_{21}^{2}} = \\sqrt{50 - (-5)^2} = 5$$\n",
    "$$l_{32} = \\frac{1}{l_{22}}\\left ( a_{32}-l_{21}l_{31} \\right) = \\frac{1}{5}(-15 - (-5) * 5) = 2$$\n",
    "$$l_{33} = \\sqrt{a_{33}-l_{32}^{2}-l_{31}^{2}} = \\sqrt{38 - 2^2 - 5^2} = 3$$\n",
    "\n",
    "$$\n",
    "L=\\begin{pmatrix}\n",
    "9 & 0 & 0 \\\\\n",
    "-5 & 5 & 0 \\\\\n",
    "5 & 2 & 3\n",
    "\\end{pmatrix}, \\ \n",
    "L^T=\\begin{pmatrix}\n",
    "9 & -5 & 5 \\\\\n",
    "0 & 5 & 2 \\\\\n",
    "0 & 0 & 3\n",
    "\\end{pmatrix}$$"
   ]
  },
  {
   "cell_type": "code",
   "execution_count": 14,
   "metadata": {},
   "outputs": [
    {
     "name": "stdout",
     "output_type": "stream",
     "text": [
      "[[ 9.  0.  0.]\n",
      " [-5.  5.  0.]\n",
      " [ 5.  2.  3.]]\n",
      "\n",
      "[[ 9. -5.  5.]\n",
      " [ 0.  5.  2.]\n",
      " [ 0.  0.  3.]]\n"
     ]
    }
   ],
   "source": [
    "L = np.linalg.cholesky(A)\n",
    "print(L, L.T, sep=\"\\n\\n\")"
   ]
  },
  {
   "cell_type": "markdown",
   "metadata": {},
   "source": [
    "$Ly=b:$\n",
    "\n",
    "$$\n",
    "\\begin{cases}\n",
    "9y_1 = 531 \\\\\n",
    "-5y_1 + 5y_2 = -460 \\\\\n",
    "5y_1 + 2y_2 + 3y_3 = 193\n",
    "\\end{cases}=>\\begin{cases}\n",
    "y_1 = 59 \\\\\n",
    "y_2 = -33 \\\\\n",
    "y_3 = -12\n",
    "\\end{cases}\n",
    "$$\n",
    "\n",
    "$L^Tx=y:$\n",
    "\n",
    "$$\n",
    "\\begin{cases}\n",
    "9x_1 - 5x_2 + 5x_3 = 59 \\\\\n",
    "5x_2 + 2x_3 = -33 \\\\\n",
    "3x_3 = -12\n",
    "\\end{cases}=>\\begin{cases}  \n",
    "x_1 = 6 \\\\\n",
    "x_2 = -5 \\\\\n",
    "x_3 = -4\n",
    "\\end{cases}  \n",
    "$$"
   ]
  },
  {
   "cell_type": "code",
   "execution_count": 15,
   "metadata": {},
   "outputs": [
    {
     "name": "stdout",
     "output_type": "stream",
     "text": [
      "Корни СЛАУ: x_1 = 6.0, x_2 = -5.0, x_3 = -4.0\n"
     ]
    }
   ],
   "source": [
    "print(f\"Корни СЛАУ: {', '.join([f'x_{index+1} = {round(x, 3)}' for index, x in enumerate(np.linalg.solve(A, b[0]))])}\")"
   ]
  },
  {
   "cell_type": "markdown",
   "metadata": {},
   "source": [
    "5*. Напишите на Python программу с реализацией одного из изученных алгоритмов решения СЛАУ."
   ]
  },
  {
   "cell_type": "code",
   "execution_count": 16,
   "metadata": {},
   "outputs": [],
   "source": [
    "def solve_by_Cramers_method(coef_matrix, dependent):    \n",
    "    if len(coef_matrix) != sum([len(x[x != 0])!=0 for x in coef_matrix.T]):\n",
    "        return \"Формула Крамера применима когда число уравнений равно числу неизвестных.\"\n",
    "    \n",
    "    main_det = np.linalg.det(coef_matrix)\n",
    "    \n",
    "    if main_det == 0:\n",
    "        return \"Формула Крамера применима только для невырожденных систем уравнений.\"\n",
    "        \n",
    "    coef_matrix_copies = list()\n",
    "    for i in range(len(coef_matrix)):\n",
    "        det_i = coef_matrix.copy()\n",
    "        det_i[:, i]= dependent\n",
    "        coef_matrix_copies.append(det_i)\n",
    "    \n",
    "    all_dets = [np.linalg.det(m) for m in coef_matrix_copies]\n",
    "    equation_roots = all_dets / main_det\n",
    "    return equation_roots"
   ]
  },
  {
   "cell_type": "code",
   "execution_count": 17,
   "metadata": {},
   "outputs": [
    {
     "name": "stdout",
     "output_type": "stream",
     "text": [
      "Формула Крамера применима только для невырожденных систем уравнений.\n"
     ]
    }
   ],
   "source": [
    "A = np.array([[-2, 7, -3], [4, -14, 6], [-3, 7, 13]])\n",
    "b = np.array([4, 6, -12])\n",
    "print(solve_by_Cramers_method(A, b))"
   ]
  },
  {
   "cell_type": "code",
   "execution_count": 18,
   "metadata": {},
   "outputs": [
    {
     "name": "stdout",
     "output_type": "stream",
     "text": [
      "[5. 2.]\n"
     ]
    }
   ],
   "source": [
    "B = np.array([[1, -2], [3, -4]])\n",
    "b = np.array([[1, 7]])\n",
    "print(solve_by_Cramers_method(B, b))"
   ]
  },
  {
   "cell_type": "code",
   "execution_count": 19,
   "metadata": {},
   "outputs": [
    {
     "name": "stdout",
     "output_type": "stream",
     "text": [
      "Формула Крамера применима когда число уравнений равно числу неизвестных.\n"
     ]
    }
   ],
   "source": [
    "C = np.array([[1, 2, 5], [3, 1, -8]])\n",
    "b = np.array([4, 6])\n",
    "print(solve_by_Cramers_method(C, b))"
   ]
  },
  {
   "cell_type": "code",
   "execution_count": 20,
   "metadata": {},
   "outputs": [
    {
     "name": "stdout",
     "output_type": "stream",
     "text": [
      "[ 2. -1.  1.]\n"
     ]
    }
   ],
   "source": [
    "D = np.array([[2, -1, 5], [1, 1, -3], [2, 4, 1]])\n",
    "b = np.array([[10, -2, 1]])\n",
    "print(solve_by_Cramers_method(D, b))"
   ]
  }
 ],
 "metadata": {
  "kernelspec": {
   "display_name": "Python 3",
   "language": "python",
   "name": "python3"
  },
  "language_info": {
   "codemirror_mode": {
    "name": "ipython",
    "version": 3
   },
   "file_extension": ".py",
   "mimetype": "text/x-python",
   "name": "python",
   "nbconvert_exporter": "python",
   "pygments_lexer": "ipython3",
   "version": "3.7.4"
  }
 },
 "nbformat": 4,
 "nbformat_minor": 2
}
